{
 "cells": [
  {
   "cell_type": "code",
   "execution_count": 2,
   "id": "2273e787-23cb-4c54-a406-a1f313207ac2",
   "metadata": {},
   "outputs": [],
   "source": [
    "import pandas as pd\n",
    "from smart_open import open\n",
    "import boto3\n",
    "from tqdm import tqdm\n",
    "\n",
    "# Import MinIO credentials securely\n",
    "import credentials"
   ]
  },
  {
   "cell_type": "code",
   "execution_count": 3,
   "id": "67456394-cd26-41fc-af0b-399bd364463b",
   "metadata": {},
   "outputs": [],
   "source": [
    "# Create boto3 session\n",
    "session = boto3.session.Session()\n",
    "\n",
    "# Configure transport parameters\n",
    "transport_params = {\n",
    "    \"client\": session.client(\n",
    "        \"s3\",\n",
    "        endpoint_url=credentials.MINIO_URL,\n",
    "        aws_access_key_id=credentials.ACCESS_KEY,\n",
    "        aws_secret_access_key=credentials.SECRET_KEY\n",
    "    )\n",
    "}"
   ]
  },
  {
   "cell_type": "code",
   "execution_count": 4,
   "id": "42d367fc-6922-4a93-8705-3648ae4a8ebb",
   "metadata": {},
   "outputs": [
    {
     "name": "stdout",
     "output_type": "stream",
     "text": [
      "Files in raw-data/:\n",
      " - raw-data/ComputedElements.txt\n",
      " - raw-data/EINJURY_01REF.txt\n",
      " - raw-data/EPROCEDURES_03REF.txt\n",
      " - raw-data/ESITUATION_09REF.txt\n",
      " - raw-data/ESITUATION_10REF.txt\n",
      " - raw-data/ESITUATION_11REF.txt\n",
      " - raw-data/ESITUATION_12REF.txt\n",
      " - raw-data/FACTPCRADDITIONALRESPONSEMODE.txt\n",
      " - raw-data/FACTPCRADDITIONALSYMPTOM.txt\n",
      " - raw-data/FACTPCRADDITIONALTRANSPORTMODE.txt\n",
      " - raw-data/FACTPCRALCOHOLDRUGUSEINDICATOR.txt\n",
      " - raw-data/FACTPCRARRESTCPRPROVIDED.txt\n",
      " - raw-data/FACTPCRARRESTRESUSCITATION.txt\n",
      " - raw-data/FACTPCRARRESTRHYTHMDESTINATION.txt\n",
      " - raw-data/FACTPCRARRESTROSC.txt\n",
      " - raw-data/FACTPCRARRESTWITNESS.txt\n",
      " - raw-data/FACTPCRBARRIERTOCARE.txt\n",
      " - raw-data/FACTPCRCAUSEOFINJURY.txt\n",
      " - raw-data/FACTPCRDESTINATIONREASON.txt\n",
      " - raw-data/FACTPCRDESTINATIONTEAM.txt\n",
      " - raw-data/FACTPCRDISPATCHDELAY.txt\n",
      " - raw-data/FACTPCRINJURYRISKFACTOR.txt\n",
      " - raw-data/FACTPCRMEDICATION.txt\n",
      " - raw-data/FACTPCRPRIMARYIMPRESSION.txt\n",
      " - raw-data/FACTPCRPRIMARYSYMPTOM.txt\n",
      " - raw-data/FACTPCRPROCEDURE.txt\n",
      " - raw-data/FACTPCRPROTOCOL.txt\n",
      " - raw-data/FACTPCRRESPONSEDELAY.txt\n",
      " - raw-data/FACTPCRSCENEDELAY.txt\n",
      " - raw-data/FACTPCRSECONDARYIMPRESSION.txt\n",
      " - raw-data/FACTPCRTRANSPORTDELAY.txt\n",
      " - raw-data/FACTPCRTRAUMACRITERIA.txt\n",
      " - raw-data/FACTPCRTURNAROUNDDELAY.txt\n",
      " - raw-data/FACTPCRVITAL.txt\n",
      " - raw-data/FACTPCRWORKRELATEDEXPOSURE.txt\n",
      " - raw-data/PCRMEDCOMPGROUP.txt\n",
      " - raw-data/PCRPATIENTRACEGROUP.txt\n",
      " - raw-data/PCRPROCCOMPGROUP.txt\n",
      " - raw-data/PCRVITALECGGROUP.txt\n",
      " - raw-data/PCRVITALECGINTERPRETATIONGROUP.txt\n",
      " - raw-data/PCRVITALGLASGOWQUALIFIERGROUP.txt\n",
      " - raw-data/pub_pcrevents_cp25.txt\n"
     ]
    }
   ],
   "source": [
    "# Create S3 client\n",
    "s3_client = session.client(\n",
    "    \"s3\",\n",
    "    endpoint_url=credentials.MINIO_URL,\n",
    "    aws_access_key_id=credentials.ACCESS_KEY,\n",
    "    aws_secret_access_key=credentials.SECRET_KEY\n",
    ")\n",
    "\n",
    "# List objects in your bucket under raw-data/\n",
    "response = s3_client.list_objects_v2(\n",
    "    Bucket=credentials.BUCKET_NAME,\n",
    "    Prefix=\"raw-data/\"\n",
    ")\n",
    "\n",
    "# Print filenames\n",
    "print(\"Files in raw-data/:\")\n",
    "for obj in response.get(\"Contents\", []):\n",
    "    print(\" -\", obj[\"Key\"])"
   ]
  },
  {
   "cell_type": "code",
   "execution_count": null,
   "id": "99d3dd6f-00e4-4c9e-b51a-2bf8a2f9b855",
   "metadata": {},
   "outputs": [],
   "source": []
  }
 ],
 "metadata": {
  "kernelspec": {
   "display_name": "nemsis-env",
   "language": "python",
   "name": "nemsis-env"
  },
  "language_info": {
   "codemirror_mode": {
    "name": "ipython",
    "version": 3
   },
   "file_extension": ".py",
   "mimetype": "text/x-python",
   "name": "python",
   "nbconvert_exporter": "python",
   "pygments_lexer": "ipython3",
   "version": "3.10.16"
  }
 },
 "nbformat": 4,
 "nbformat_minor": 5
}
