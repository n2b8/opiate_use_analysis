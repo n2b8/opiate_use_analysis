{
 "cells": [
  {
   "cell_type": "code",
   "execution_count": 1,
   "id": "ec0a2f7e-7975-4f68-b41b-39dcf22fca23",
   "metadata": {},
   "outputs": [],
   "source": [
    "import pandas as pd\n",
    "from smart_open import open\n",
    "import boto3\n",
    "from tqdm import tqdm\n",
    "import numpy as np\n",
    "\n",
    "# Import credentials\n",
    "import credentials"
   ]
  },
  {
   "cell_type": "code",
   "execution_count": 2,
   "id": "4494a7da-e2b8-48d5-b71a-ceb4ffb88d10",
   "metadata": {},
   "outputs": [],
   "source": [
    "# Create boto3 session\n",
    "session = boto3.session.Session()\n",
    "\n",
    "# Transport params for smart_open\n",
    "transport_params = {\n",
    "    \"client\": session.client(\n",
    "        \"s3\",\n",
    "        endpoint_url=credentials.MINIO_URL,\n",
    "        aws_access_key_id=credentials.ACCESS_KEY,\n",
    "        aws_secret_access_key=credentials.SECRET_KEY\n",
    "    )\n",
    "}"
   ]
  },
  {
   "cell_type": "code",
   "execution_count": null,
   "id": "05022a39-e338-4ee0-8d74-7d20165dbe30",
   "metadata": {},
   "outputs": [],
   "source": []
  }
 ],
 "metadata": {
  "kernelspec": {
   "display_name": "nemsis-env",
   "language": "python",
   "name": "nemsis-env"
  },
  "language_info": {
   "codemirror_mode": {
    "name": "ipython",
    "version": 3
   },
   "file_extension": ".py",
   "mimetype": "text/x-python",
   "name": "python",
   "nbconvert_exporter": "python",
   "pygments_lexer": "ipython3",
   "version": "3.10.16"
  }
 },
 "nbformat": 4,
 "nbformat_minor": 5
}
